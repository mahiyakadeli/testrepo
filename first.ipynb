{
 "cells": [
  {
   "cell_type": "markdown",
   "id": "c3cde8e4-a7a8-40ef-a1cc-d5eeffa7cc6f",
   "metadata": {},
   "source": [
    "# First\n",
    "\n",
    "## Title of the notebook"
   ]
  },
  {
   "cell_type": "markdown",
   "id": "98dc34dc-7136-4468-a8cf-ec55ffd9ea68",
   "metadata": {},
   "source": [
    "# Introduction\n",
    "\n",
    "This is a markup for introduction"
   ]
  },
  {
   "cell_type": "markdown",
   "id": "5c463dff-947b-4e55-aa31-8048858e8950",
   "metadata": {},
   "source": [
    "# Data Science Languages\n",
    "\n",
    "1. Python\n",
    "2. R\n",
    "3. SQL\n",
    "4. Julia\n",
    "5. Java\n",
    "6. Scala\n",
    "7. MATLAB\n",
    "8. SAS\n",
    "9. C++\n",
    "10. JavaScript"
   ]
  },
  {
   "cell_type": "markdown",
   "id": "0507782e-7350-435c-b394-8491c6e1b16d",
   "metadata": {},
   "source": [
    "# Data Science Libraries\n",
    "\n",
    "1. NumPy\n",
    "2. Pandas\n",
    "3. SciPy\n",
    "4. Scikit-learn\n",
    "5. TensorFlow\n",
    "6. Keras\n",
    "7. PyTorch\n",
    "8. Matplotlib\n",
    "9. Seaborn\n",
    "10. Plotly\n",
    "11. Statsmodels\n",
    "12. XGBoost\n",
    "13. LightGBM\n",
    "14. CatBoost\n",
    "15. NLTK\n",
    "16. spaCy\n",
    "17. Gensim\n",
    "18. H2O.ai\n",
    "19. OpenCV\n",
    "20. Dask"
   ]
  },
  {
   "cell_type": "code",
   "execution_count": null,
   "id": "225a2e32-04ba-46b1-b13b-216e3310310e",
   "metadata": {},
   "outputs": [],
   "source": []
  },
  {
   "cell_type": "markdown",
   "id": "953a9ba2-fb82-4439-95ed-854dbca9af30",
   "metadata": {},
   "source": [
    "# Arithematic Expressions\n",
    "\n",
    "Here are some examples of arithmetic expressions:\n",
    "\n",
    "1. **Addition**:  \n",
    "   - \\(3 + 5 = 8\\)\n",
    "   - \\(a + b\\)\n",
    "\n",
    "2. **Subtraction**:  \n",
    "   - \\(10 - 4 = 6\\)\n",
    "   - \\(x - y\\)\n",
    "\n",
    "3. **Multiplication**:  \n",
    "   - \\(6 \\times 7 = 42\\)\n",
    "   - \\(m \\cdot n\\)\n",
    "\n",
    "4. **Division**:  \n",
    "   - \\(15 \\div 3 = 5\\)\n",
    "   - \\(\\frac{p}{q}\\)\n",
    "\n",
    "5. **Exponentiation**:  \n",
    "   - \\(2^3 = 8\\)\n",
    "   - \\(b^n\\)\n",
    "\n",
    "6. **Modulus**:  \n",
    "   - \\(10 \\mod 3 = 1\\)\n",
    "   - \\(a \\% b\\)\n",
    "\n",
    "7. **Combination of Operations**:  \n",
    "   - \\(2 + 3 \\times 4 = 14\\)\n",
    "   - \\((x + y)^2\\) \n",
    "\n",
    "These expressions can involve numbers or variables and can be combined using parentheses to indicate the order of operations."
   ]
  },
  {
   "cell_type": "code",
   "execution_count": 2,
   "id": "b6a7833f-9c8d-4535-a59a-9f81b0756fbc",
   "metadata": {
    "tags": []
   },
   "outputs": [
    {
     "name": "stdout",
     "output_type": "stream",
     "text": [
      "7\n",
      "21\n"
     ]
    }
   ],
   "source": [
    "# Addition\n",
    "a = 5\n",
    "b = 2\n",
    "print(a + b)\n",
    "\n",
    "# Multiplication\n",
    "c = 3\n",
    "d = 7\n",
    "print(c*d)"
   ]
  },
  {
   "cell_type": "code",
   "execution_count": 3,
   "id": "84447175-0a45-46b6-9b5a-0434d6aef6a4",
   "metadata": {
    "tags": []
   },
   "outputs": [
    {
     "name": "stdout",
     "output_type": "stream",
     "text": [
      "150 minutes is equal to 2.5 hours.\n"
     ]
    }
   ],
   "source": [
    "\n",
    "def minutes_to_hours(minutes):\n",
    "    hours = minutes / 60\n",
    "    return hours\n",
    "minutes = 150\n",
    "hours = minutes_to_hours(minutes)\n",
    "print(f\"{minutes} minutes is equal to {hours} hours.\")  \n"
   ]
  },
  {
   "cell_type": "markdown",
   "id": "a60adab9-455e-4388-b2a9-46490f6a9234",
   "metadata": {},
   "source": [
    "# Objectives\n",
    "Here are some common objectives of using Jupyter Notebook:\n",
    "\n",
    "1. Interactive data analysis\n",
    "2. Code execution in cells\n",
    "3. Data visualization\n",
    "4. Sharing and collaboration\n",
    "5. Documentation alongside code\n",
    "6. Integration with multiple languages\n",
    "7. Reproducible research\n",
    "8. Prototyping and experimentation\n",
    "9. Educational purposes\n",
    "10. Presentation of results\n",
    "11. Exploratory data analysis (EDA)\n",
    "12. Support for various data science libraries\n",
    "13. Integration with big data tools\n",
    "14. Creating dashboards and reports\n",
    "15. Facilitating machine learning workflows\n",
    "\n",
    "These objectives make Jupyter Notebook a powerful tool for data scientists, educators, and researchers.\n"
   ]
  },
  {
   "cell_type": "markdown",
   "id": "d64adc6c-2b61-429d-991d-8f01f94084ac",
   "metadata": {},
   "source": [
    "## Author Name:"
   ]
  },
  {
   "cell_type": "markdown",
   "id": "c2834f9a-f71e-485b-b820-cbd8ce7803a5",
   "metadata": {},
   "source": [
    "### Mahiya Kadeli\n"
   ]
  },
  {
   "cell_type": "code",
   "execution_count": null,
   "id": "e78f9fee-3404-4fa0-a6bd-6535ff7bed07",
   "metadata": {},
   "outputs": [],
   "source": []
  }
 ],
 "metadata": {
  "kernelspec": {
   "display_name": "Python",
   "language": "python",
   "name": "conda-env-python-py"
  },
  "language_info": {
   "codemirror_mode": {
    "name": "ipython",
    "version": 3
   },
   "file_extension": ".py",
   "mimetype": "text/x-python",
   "name": "python",
   "nbconvert_exporter": "python",
   "pygments_lexer": "ipython3",
   "version": "3.7.12"
  }
 },
 "nbformat": 4,
 "nbformat_minor": 5
}
